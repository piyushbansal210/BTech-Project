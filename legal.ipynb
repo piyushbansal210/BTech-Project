{
 "cells": [
  {
   "cell_type": "code",
   "execution_count": null,
   "metadata": {},
   "outputs": [],
   "source": [
    "import torch\n",
    "from transormers import AutoModelForCausalLM, AutoTokenizer"
   ]
  },
  {
   "cell_type": "code",
   "execution_count": null,
   "metadata": {},
   "outputs": [],
   "source": [
    "# Load the Legal BERT model\n",
    "model = AutoModelForCausalLM.from_pretrained(\"monologg/biobert-base-cased-legal-corpus\")\n",
    "tokenizer = AutoTokenizer.from_pretrained(\"monologg/biobert-base-cased-legal-corpus\")"
   ]
  },
  {
   "cell_type": "code",
   "execution_count": null,
   "metadata": {},
   "outputs": [],
   "source": [
    "# Define the input text\n",
    "text = \"The defendant was charged with theft, but the evidence presented in court was not sufficient to prove guilt beyond a reasonable doubt. The judge declared a mistrial.\""
   ]
  },
  {
   "cell_type": "code",
   "execution_count": null,
   "metadata": {},
   "outputs": [],
   "source": [
    "# Tokenize the input text\n",
    "input_ids = torch.tensor(tokenizer.encode(text, return_tensors='pt')).unsqueeze(0)"
   ]
  },
  {
   "cell_type": "code",
   "execution_count": null,
   "metadata": {},
   "outputs": [],
   "source": [
    "# Generate a summary of the input text\n",
    "with torch.no_grad():\n",
    "    summary = tokenizer.decode(model.generate(input_ids)[0], skip_special_tokens=True)"
   ]
  },
  {
   "cell_type": "code",
   "execution_count": null,
   "metadata": {},
   "outputs": [],
   "source": [
    "print(summary)\n"
   ]
  }
 ],
 "metadata": {
  "language_info": {
   "name": "python"
  },
  "orig_nbformat": 4
 },
 "nbformat": 4,
 "nbformat_minor": 2
}
